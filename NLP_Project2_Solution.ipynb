{
 "cells": [
  {
   "cell_type": "markdown",
   "id": "42d677a5",
   "metadata": {},
   "source": [
    "# PART-A\n",
    "## 1. Import and analyse the data set. [5 Marks] \n",
    "Hint: - Use `imdb.load_data()` method\n",
    " - Get train and test set\n",
    " - Take 10000 most frequent words"
   ]
  },
  {
   "cell_type": "code",
   "execution_count": 1,
   "id": "fbd51a5d",
   "metadata": {},
   "outputs": [],
   "source": [
    "import pandas as pd\n",
    "import numpy as np\n",
    "from langdetect import detect\n",
    "import re\n",
    "import string\n",
    "from nltk.corpus import stopwords\n",
    "from sklearn.model_selection import train_test_split\n",
    "from sklearn import metrics\n",
    "from sklearn.metrics import classification_report,accuracy_score, average_precision_score, recall_score\n",
    "from sklearn.metrics import f1_score, confusion_matrix, roc_auc_score, roc_curve, auc\n",
    "from sklearn import preprocessing\n",
    "from keras.datasets import imdb\n",
    "from keras.preprocessing import sequence\n",
    "from keras.models import Sequential\n",
    "from keras.layers import Dense, Embedding, Flatten\n",
    "from keras.callbacks import EarlyStopping\n",
    "from tensorflow import keras\n",
    "from tensorflow.keras.preprocessing.text import Tokenizer\n",
    "from tensorflow.keras.preprocessing.sequence import pad_sequences\n",
    "from keras.utils import pad_sequences\n",
    "import warnings\n",
    "warnings.filterwarnings('ignore')\n",
    "import pandas_profiling as pp\n",
    "import seaborn as sns\n",
    "import matplotlib.pyplot as plt\n",
    "%matplotlib inline\n",
    "import json\n",
    "import random"
   ]
  },
  {
   "cell_type": "code",
   "execution_count": 2,
   "id": "30f2b5b5",
   "metadata": {},
   "outputs": [],
   "source": [
    "top_nwords = 10000\n",
    "(x_train, y_train), (x_test, y_test) = imdb.load_data(num_words=top_nwords)"
   ]
  },
  {
   "cell_type": "markdown",
   "id": "c85a8ef4",
   "metadata": {},
   "source": [
    "#### About imdb dataset:\n",
    "- This is a dataset of 25,000 movies reviews from IMDB, labeled by sentiment (positive/negative). \n",
    "- Reviews have been preprocessed, and each review is encoded as a list of word indexes (integers). \n",
    "- For convenience, words are indexed by overall frequency in the dataset.For example, integer \"3\" encodes the 3rd most frequent word in the data. \n",
    "\n",
    "#### load_data function returns the below:\n",
    "- x_train, x_test: lists of sequences, which are lists of indexes (integers). Each index represent the frequency rank of the word in the dataset. Since we have given num_words as 10000, the maximum possible index value will be 9999 (i.e num_words-1). Meaning, we are considering words which are top 10000 frequent words in the dataset. If no num_words is defined all words are considered. The index value starts from \"1\". There is no index \"0\" and it does not stand for a specific word, but instead is used to encode the pad token (padding is explained later). <br>\n",
    "Note: If the `maxlen` argument was specified, the largest possible sequence length is `maxlen`. Since no 'maxlen' is defined the sequences in x_train and x_test can be of any length.\n",
    "\n",
    "- y_train, y_test: lists of integer labels - 1 or 0 representing positive or negative sentiment."
   ]
  },
  {
   "cell_type": "code",
   "execution_count": 3,
   "id": "00b4e1e5",
   "metadata": {},
   "outputs": [
    {
     "name": "stdout",
     "output_type": "stream",
     "text": [
      "Shape of x_train :(25000,)\n",
      "Shape of y_train :(25000,)\n",
      "Shape of x_test  :(25000,)\n",
      "Shape of y_test  :(25000,)\n"
     ]
    }
   ],
   "source": [
    "print(\"Shape of x_train :{}\".format(x_train.shape))\n",
    "print(\"Shape of y_train :{}\".format(y_train.shape))\n",
    "print(\"Shape of x_test  :{}\".format(x_test.shape))\n",
    "print(\"Shape of y_test  :{}\".format(y_test.shape))"
   ]
  },
  {
   "cell_type": "code",
   "execution_count": 4,
   "id": "45b0102d",
   "metadata": {},
   "outputs": [
    {
     "name": "stdout",
     "output_type": "stream",
     "text": [
      "[1, 14, 22, 16, 43, 530, 973, 1622, 1385, 65, 458, 4468, 66, 3941, 4, 173, 36, 256, 5, 25, 100, 43, 838, 112, 50, 670, 2, 9, 35, 480, 284, 5, 150, 4, 172, 112, 167, 2, 336, 385, 39, 4, 172, 4536, 1111, 17, 546, 38, 13, 447, 4, 192, 50, 16, 6, 147, 2025, 19, 14, 22, 4, 1920, 4613, 469, 4, 22, 71, 87, 12, 16, 43, 530, 38, 76, 15, 13, 1247, 4, 22, 17, 515, 17, 12, 16, 626, 18, 2, 5, 62, 386, 12, 8, 316, 8, 106, 5, 4, 2223, 5244, 16, 480, 66, 3785, 33, 4, 130, 12, 16, 38, 619, 5, 25, 124, 51, 36, 135, 48, 25, 1415, 33, 6, 22, 12, 215, 28, 77, 52, 5, 14, 407, 16, 82, 2, 8, 4, 107, 117, 5952, 15, 256, 4, 2, 7, 3766, 5, 723, 36, 71, 43, 530, 476, 26, 400, 317, 46, 7, 4, 2, 1029, 13, 104, 88, 4, 381, 15, 297, 98, 32, 2071, 56, 26, 141, 6, 194, 7486, 18, 4, 226, 22, 21, 134, 476, 26, 480, 5, 144, 30, 5535, 18, 51, 36, 28, 224, 92, 25, 104, 4, 226, 65, 16, 38, 1334, 88, 12, 16, 283, 5, 16, 4472, 113, 103, 32, 15, 16, 5345, 19, 178, 32]\n"
     ]
    }
   ],
   "source": [
    "# Let us see a sample item from x_train\n",
    "print(x_train[0])"
   ]
  },
  {
   "cell_type": "code",
   "execution_count": 5,
   "id": "fa0b182a",
   "metadata": {},
   "outputs": [
    {
     "name": "stdout",
     "output_type": "stream",
     "text": [
      "218\n",
      "189\n",
      "141\n",
      "550\n",
      "147\n",
      "43\n",
      "123\n",
      "562\n",
      "233\n",
      "130\n"
     ]
    }
   ],
   "source": [
    "# Let us check the length of sample sequences in x_train\n",
    "for i in range(10):\n",
    "    print(len(x_train[i]))"
   ]
  },
  {
   "cell_type": "code",
   "execution_count": 6,
   "id": "6daf8e8d",
   "metadata": {},
   "outputs": [
    {
     "name": "stdout",
     "output_type": "stream",
     "text": [
      "[1, 591, 202, 14, 31, 6, 717, 10, 10, 2, 2, 5, 4, 360, 7, 4, 177, 5760, 394, 354, 4, 123, 9, 1035, 1035, 1035, 10, 10, 13, 92, 124, 89, 488, 7944, 100, 28, 1668, 14, 31, 23, 27, 7479, 29, 220, 468, 8, 124, 14, 286, 170, 8, 157, 46, 5, 27, 239, 16, 179, 2, 38, 32, 25, 7944, 451, 202, 14, 6, 717]\n"
     ]
    }
   ],
   "source": [
    "print(x_test[0])"
   ]
  },
  {
   "cell_type": "code",
   "execution_count": 7,
   "id": "2a25a1db",
   "metadata": {},
   "outputs": [
    {
     "name": "stdout",
     "output_type": "stream",
     "text": [
      "68\n",
      "260\n",
      "603\n",
      "181\n",
      "108\n",
      "132\n",
      "761\n",
      "180\n",
      "134\n",
      "370\n"
     ]
    }
   ],
   "source": [
    "# Let us check the length of sample sequences in x_train\n",
    "for i in range(10):\n",
    "    print(len(x_test[i]))"
   ]
  },
  {
   "cell_type": "markdown",
   "id": "6539a7b9",
   "metadata": {},
   "source": [
    "#### From the above displays, it is evident that the sequences in both x_train and x_test are of various length. It needs padding in order to have same/consistent length for all sequences."
   ]
  },
  {
   "cell_type": "code",
   "execution_count": 8,
   "id": "6acd9f98",
   "metadata": {},
   "outputs": [
    {
     "data": {
      "text/plain": [
       "array([1, 0, 0, ..., 0, 1, 0], dtype=int64)"
      ]
     },
     "execution_count": 8,
     "metadata": {},
     "output_type": "execute_result"
    }
   ],
   "source": [
    "y_train"
   ]
  },
  {
   "cell_type": "code",
   "execution_count": 9,
   "id": "577f9b3b",
   "metadata": {},
   "outputs": [
    {
     "data": {
      "text/plain": [
       "array([0, 1, 1, ..., 0, 0, 0], dtype=int64)"
      ]
     },
     "execution_count": 9,
     "metadata": {},
     "output_type": "execute_result"
    }
   ],
   "source": [
    "y_test"
   ]
  },
  {
   "cell_type": "code",
   "execution_count": 10,
   "id": "83a3f0e8",
   "metadata": {},
   "outputs": [
    {
     "name": "stdout",
     "output_type": "stream",
     "text": [
      "Length of the dictionary :88584\n",
      "\n",
      "Sample words and its indices: \n",
      "\n",
      "[('fawn', 34701), ('tsukino', 52006), ('nunnery', 52007), ('sonja', 16816), ('vani', 63951)]\n"
     ]
    }
   ],
   "source": [
    "#Let us see the words that are assigned to each index\n",
    "word_dict = imdb.get_word_index()\n",
    "print(\"Length of the dictionary :{}\".format(len(word_dict)))\n",
    "print(\"\\nSample words and its indices: \\n\")\n",
    "print(list(word_dict.items())[:5])"
   ]
  },
  {
   "cell_type": "markdown",
   "id": "8b7b14ad",
   "metadata": {},
   "source": [
    "- There are totally 88584 distinct words in the dataset"
   ]
  },
  {
   "cell_type": "code",
   "execution_count": 11,
   "id": "20fac906",
   "metadata": {},
   "outputs": [
    {
     "name": "stdout",
     "output_type": "stream",
     "text": [
      "\n",
      "Sample indices and words : \n",
      "\n",
      "[(34701, 'fawn'), (52006, 'tsukino'), (52007, 'nunnery'), (16816, 'sonja'), (63951, 'vani')]\n"
     ]
    }
   ],
   "source": [
    "reverse_word_dict = {value:key for key, value in word_dict.items()}\n",
    "print(\"\\nSample indices and words : \\n\")\n",
    "print(list(reverse_word_dict.items())[:5])"
   ]
  },
  {
   "cell_type": "code",
   "execution_count": 12,
   "id": "9ac2afbd",
   "metadata": {},
   "outputs": [
    {
     "name": "stdout",
     "output_type": "stream",
     "text": [
      "Index 0 not present\n"
     ]
    }
   ],
   "source": [
    "# Since index represents frequency rank of the word in the dataset, there may not be index 0 in reverse_word_dict. \n",
    "# Let us confirm the same.\n",
    "if reverse_word_dict.get(0) == None:\n",
    "  print(\"Index 0 not present\")\n",
    "else:\n",
    "  print(\"Index 0 present\")"
   ]
  },
  {
   "cell_type": "code",
   "execution_count": 13,
   "id": "f26e9b44",
   "metadata": {},
   "outputs": [
    {
     "name": "stdout",
     "output_type": "stream",
     "text": [
      "1 the\n",
      "2 and\n",
      "3 a\n",
      "4 of\n",
      "5 to\n",
      "6 is\n",
      "7 br\n",
      "8 in\n",
      "9 it\n",
      "10 i\n"
     ]
    }
   ],
   "source": [
    "# lets get the 10 top frequent words\n",
    "for i in range(1,11):\n",
    "    print(i, reverse_word_dict[i])"
   ]
  },
  {
   "cell_type": "markdown",
   "id": "ae40cca5",
   "metadata": {},
   "source": [
    "- We have totally 88584 distinct words and the word 'the' is the most frequent word and the word 'and' is the second most frequent word."
   ]
  },
  {
   "cell_type": "markdown",
   "id": "281b14bb",
   "metadata": {},
   "source": [
    "## 2. Perform relevant sequence adding on the data. [5 Marks]"
   ]
  },
  {
   "cell_type": "code",
   "execution_count": 14,
   "id": "182730be",
   "metadata": {},
   "outputs": [
    {
     "name": "stdout",
     "output_type": "stream",
     "text": [
      "the as you with out themselves powerful lets loves their becomes reaching had journalist of lot from anyone to have after out atmosphere never more room and it so heart shows to years of every never going and help moments or of every chest visual movie except her was several of enough more with is now current film as you of mine potentially unfortunately of you than him that with out themselves her get for was camp of you movie sometimes movie that with scary but and to story wonderful that in seeing in character to of 70s musicians with heart had shadows they of here that with her serious to have does when from why what have critics they is you that isn't one will very to as itself with other and in of seen over landed for anyone of and br show's to whether from than out themselves history he name half some br of and odd was two most of mean for 1 any an boat she he should is thought frog but of script you not while history he heart to real at barrel but when from one bit then have two of script their with her nobody most that with wasn't to with armed acting watch an for with heartfelt film want an\n"
     ]
    }
   ],
   "source": [
    "# To understand what sequence adding is needed in the data, First let us try to decode the indices to words for a sample sequence in x_train\n",
    "print(' '.join(reverse_word_dict[id] for id in x_train[0]))\n"
   ]
  },
  {
   "cell_type": "markdown",
   "id": "dfd1dee7",
   "metadata": {},
   "source": [
    "##### Modifying index:\n",
    "The above sentence doesn't make any sense and it all looks giberish. The reason is given as below:\n",
    "- When loading the dataset,the indices are offset by 3 because 0, 1 and 2 are reserved indices for \"padding\", \"start of sequence\" and \"unknown\".\n",
    "- \"start of sequence\" is defined by start_char: int. The start of a sequence will be marked with this character. Defaults to 1 because 0 is usually the padding character.\n",
    "- \"unknown\" or \"Out Of Vocabulary\" is defined by oov_char: int. The out-of-vocabulary character.\n",
    "\n",
    "Since indices 0,1, and 2 reserved, the actual index start from 3. In order to sync with indices of x_train and x_test we need to add +3 to their indices. "
   ]
  },
  {
   "cell_type": "code",
   "execution_count": 15,
   "id": "3d7bfd93",
   "metadata": {},
   "outputs": [
    {
     "name": "stdout",
     "output_type": "stream",
     "text": [
      "# this film was just brilliant casting location scenery story direction everyone's really suited the part they played and you could just imagine being there robert ? is an amazing actor and now the same being director ? father came from the same scottish island as myself so i loved the fact there was a real connection with this film the witty remarks throughout the film were great it was just brilliant so much that i bought the film as soon as it was released for ? and would recommend it to everyone to watch and the fly fishing was amazing really cried at the end it was so sad and you know what they say if you cry at a film it must have been good and this definitely was also ? to the two little boy's that played the ? of norman and paul they were just brilliant children are often left out of the ? list i think because the stars that play them all grown up are such a big profile for the whole film but these children are amazing and should be praised for what they have done don't you think the whole story was so lovely because it was true and was someone's life after all that was shared with us all\n"
     ]
    }
   ],
   "source": [
    "# Let us now try modifying the indices\n",
    "word_dict1 = {key:(value+3) for key, value in word_dict.items()}\n",
    "\n",
    "# Padding\n",
    "word_dict1[' '] = 0\n",
    "\n",
    "# start of sequence\n",
    "word_dict1['#'] = 1  \n",
    "\n",
    "# Out Of Vocabulary\n",
    "word_dict1['?'] = 2 \n",
    "\n",
    "reverse_word_dict1 = {value:key for key, value in word_dict1.items() }\n",
    "print(' '.join(reverse_word_dict1[id] for id in x_train[0]))"
   ]
  },
  {
   "cell_type": "markdown",
   "id": "f24d5c1b",
   "metadata": {},
   "source": [
    "- Now the statement makes sense and gives meaning. All needed relevant sequences are added to the data."
   ]
  },
  {
   "cell_type": "markdown",
   "id": "3963dd04",
   "metadata": {},
   "source": [
    "## 3. Perform following data analysis: [5 Marks]\n",
    "• Print shape of features and labels\n",
    "• Print value of any one feature and it's label"
   ]
  },
  {
   "cell_type": "code",
   "execution_count": 16,
   "id": "6c370ac9",
   "metadata": {},
   "outputs": [
    {
     "name": "stdout",
     "output_type": "stream",
     "text": [
      "Printing Shape of features in train and test set:\n",
      "Shape of x_train :(25000,)\n",
      "Shape of x_test  :(25000,)\n",
      "Printing Shape of labels in train and test set:\n",
      "Shape of y_train :(25000,)\n",
      "Shape of y_test  :(25000,)\n"
     ]
    }
   ],
   "source": [
    "print(\"Printing Shape of features in train and test set:\")\n",
    "print(\"Shape of x_train :{}\".format(x_train.shape))\n",
    "print(\"Shape of x_test  :{}\".format(x_test.shape))\n",
    "\n",
    "print(\"Printing Shape of labels in train and test set:\")\n",
    "print(\"Shape of y_train :{}\".format(y_train.shape))\n",
    "print(\"Shape of y_test  :{}\".format(y_test.shape))"
   ]
  },
  {
   "cell_type": "code",
   "execution_count": 18,
   "id": "699a5864",
   "metadata": {},
   "outputs": [
    {
     "name": "stdout",
     "output_type": "stream",
     "text": [
      "Printing value of any one random feature and it's label:\n",
      "Value of random feature id 22059 in x_train : \n",
      "[1, 13, 610, 930, 8, 149, 14, 22, 5, 95, 5372, 15, 101, 440, 7, 6, 3984, 414, 200, 4, 156, 16, 2, 34, 4, 1744, 6663, 150, 13, 244, 24, 6, 2, 11, 101, 96, 21, 8, 8520, 2, 33, 257, 85, 127, 24, 6, 52, 22, 97, 9970, 2, 9, 4689, 31, 7, 4, 249, 156, 11, 4, 182, 33, 14, 58, 2413, 27, 239, 11, 4, 558, 373, 113, 7, 538, 27, 8550, 1191, 9, 220, 17, 78, 17, 27, 2, 1191, 798, 89, 111, 53, 7, 134, 108, 2828, 2828, 4040, 4040, 307, 2373, 81, 75, 28, 8, 2712, 159, 4, 22, 1188, 3547, 15, 4, 1209, 681, 4, 1148, 681, 525, 127, 24, 5220, 2261, 414]\n",
      "\n",
      "Label assigned for the random feature  : 0\n"
     ]
    }
   ],
   "source": [
    "print(\"Printing value of any one random feature and it's label:\")\n",
    "rnd=np.random.randint(0, len(x_train))\n",
    "print(\"Value of random feature id {} in x_train : \\n{}\".format(rnd,x_train[rnd]))\n",
    "print(\"\\nLabel assigned for the random feature  : {}\".format(y_train[rnd]))"
   ]
  },
  {
   "cell_type": "markdown",
   "id": "6adbd2de",
   "metadata": {},
   "source": [
    "## 4. Decode the feature value to get original sentence [5 Marks]"
   ]
  },
  {
   "cell_type": "code",
   "execution_count": 19,
   "id": "6a148d6c",
   "metadata": {},
   "outputs": [
    {
     "name": "stdout",
     "output_type": "stream",
     "text": [
      "Value of random feature id 19687 in x_train :\n",
      "# here's a real weirdo for you it starts out with another take off on the psycho shower scene on campus then gets ? when several ? and their ? boyfriends head south for spring break the trouble starts when they drive into the redneck county ruled by homicidal sheriff dean one of the college ? wanders into the woods witnesses a murder by the sheriff and has her head blown open then it's lets rip off ? county line time as dean stalks traps and ? the witless witnesses one by one tony march is on target as the evil shotgun happy dean the movie's overall tone is truly disturbing the ending is so abrupt you almost think the director ran out of film it's also a study in despair shallow grave is a must for ? ? and ? the world over\n",
      "\n",
      "Label assigned for the random feature  : 1\n"
     ]
    }
   ],
   "source": [
    "rnd=np.random.randint(0, len(x_train))\n",
    "print(\"Value of random feature id {} in x_train :\".format(rnd))\n",
    "print(' '.join(reverse_word_dict1[id] for id in x_train[rnd]))\n",
    "\n",
    "print(\"\\nLabel assigned for the random feature  : {}\".format(y_train[rnd]))"
   ]
  },
  {
   "cell_type": "markdown",
   "id": "e40f25bf",
   "metadata": {},
   "source": [
    "## 5. Design, train, tune and test a sequential model. [5 Marks]\n",
    "Hint: The aim here Is to import the text, process it such a way that it can be taken as an inout to the ML/NN classifiers. Be \n",
    "analytical and experimental here in trying new approaches to design the best model."
   ]
  },
  {
   "cell_type": "code",
   "execution_count": 20,
   "id": "b1502a2f",
   "metadata": {},
   "outputs": [
    {
     "name": "stdout",
     "output_type": "stream",
     "text": [
      "218\n",
      "189\n",
      "141\n",
      "550\n",
      "147\n",
      "43\n",
      "123\n",
      "562\n",
      "233\n",
      "130\n"
     ]
    }
   ],
   "source": [
    "# Let us check the length of sample sequences in x_train\n",
    "for i in range(10):\n",
    "    print(len(x_train[i]))"
   ]
  },
  {
   "cell_type": "code",
   "execution_count": 21,
   "id": "12a43f6d",
   "metadata": {},
   "outputs": [
    {
     "name": "stdout",
     "output_type": "stream",
     "text": [
      "68\n",
      "260\n",
      "603\n",
      "181\n",
      "108\n",
      "132\n",
      "761\n",
      "180\n",
      "134\n",
      "370\n"
     ]
    }
   ],
   "source": [
    "# Let us check the length of sample sequences in x_train\n",
    "for i in range(10):\n",
    "    print(len(x_test[i]))"
   ]
  },
  {
   "cell_type": "markdown",
   "id": "201d07e2",
   "metadata": {},
   "source": [
    "#### From the above displays, it is evident that the sequences in both x_train and x_test are of various length. It needs padding in order to have same/consistent length for all sequences.\n",
    "\n",
    "#### Let us set  `maxlen` argument as 500, meaning, the largest possible sequence length is 500. If the sequnce is short of this length it will be padded with default value of 0. Note in word_dict ' ' is assigned for the padded value 0."
   ]
  },
  {
   "cell_type": "code",
   "execution_count": 22,
   "id": "7ed957d3",
   "metadata": {},
   "outputs": [],
   "source": [
    "max_review_length = 500\n",
    "x_train = pad_sequences(x_train, maxlen=max_review_length)\n",
    "x_test = pad_sequences(x_test, maxlen=max_review_length)"
   ]
  },
  {
   "cell_type": "code",
   "execution_count": 23,
   "id": "7d21778e",
   "metadata": {},
   "outputs": [
    {
     "name": "stdout",
     "output_type": "stream",
     "text": [
      "500\n",
      "500\n",
      "500\n",
      "500\n",
      "500\n",
      "500\n",
      "500\n",
      "500\n",
      "500\n",
      "500\n"
     ]
    }
   ],
   "source": [
    "# Let us check the length of sample sequences in x_train after padding\n",
    "for i in range(10):\n",
    "    print(len(x_train[i]))"
   ]
  },
  {
   "cell_type": "code",
   "execution_count": 24,
   "id": "ed47df5a",
   "metadata": {},
   "outputs": [
    {
     "data": {
      "text/plain": [
       "array([   0,    0,    0,    0,    0,    0,    0,    0,    0,    0,    0,\n",
       "          0,    0,    0,    0,    0,    0,    0,    0,    0,    0,    0,\n",
       "          0,    0,    0,    0,    0,    0,    0,    0,    0,    0,    0,\n",
       "          0,    0,    0,    0,    0,    0,    0,    0,    0,    0,    0,\n",
       "          0,    0,    0,    0,    0,    0,    0,    0,    0,    0,    0,\n",
       "          0,    0,    0,    0,    0,    0,    0,    0,    0,    0,    0,\n",
       "          0,    0,    0,    0,    0,    0,    0,    0,    0,    0,    0,\n",
       "          0,    0,    0,    0,    0,    0,    0,    0,    0,    0,    0,\n",
       "          0,    0,    0,    0,    0,    0,    0,    0,    0,    0,    0,\n",
       "          0,    0,    0,    0,    0,    0,    0,    0,    0,    0,    0,\n",
       "          0,    0,    0,    0,    0,    0,    0,    0,    0,    0,    0,\n",
       "          0,    0,    0,    0,    0,    0,    0,    0,    0,    0,    0,\n",
       "          0,    0,    0,    0,    0,    0,    0,    0,    0,    0,    0,\n",
       "          0,    0,    0,    0,    0,    0,    0,    0,    0,    0,    0,\n",
       "          0,    0,    0,    0,    0,    0,    0,    0,    0,    0,    0,\n",
       "          0,    0,    0,    0,    0,    0,    0,    0,    0,    0,    0,\n",
       "          0,    0,    0,    0,    0,    0,    0,    0,    0,    0,    0,\n",
       "          0,    0,    0,    0,    0,    0,    0,    0,    0,    0,    0,\n",
       "          0,    0,    0,    0,    0,    0,    0,    0,    0,    0,    0,\n",
       "          0,    0,    0,    0,    0,    0,    0,    0,    0,    0,    0,\n",
       "          0,    0,    0,    0,    0,    0,    0,    0,    0,    0,    0,\n",
       "          0,    0,    0,    0,    0,    0,    0,    0,    0,    0,    0,\n",
       "          0,    0,    0,    0,    0,    0,    0,    0,    0,    0,    0,\n",
       "          0,    0,    0,    0,    0,    0,    0,    0,    0,    0,    0,\n",
       "          0,    0,    0,    0,    0,    0,    0,    0,    0,    0,    0,\n",
       "          0,    0,    0,    0,    0,    0,    0,    1,   14,   22,   16,\n",
       "         43,  530,  973, 1622, 1385,   65,  458, 4468,   66, 3941,    4,\n",
       "        173,   36,  256,    5,   25,  100,   43,  838,  112,   50,  670,\n",
       "          2,    9,   35,  480,  284,    5,  150,    4,  172,  112,  167,\n",
       "          2,  336,  385,   39,    4,  172, 4536, 1111,   17,  546,   38,\n",
       "         13,  447,    4,  192,   50,   16,    6,  147, 2025,   19,   14,\n",
       "         22,    4, 1920, 4613,  469,    4,   22,   71,   87,   12,   16,\n",
       "         43,  530,   38,   76,   15,   13, 1247,    4,   22,   17,  515,\n",
       "         17,   12,   16,  626,   18,    2,    5,   62,  386,   12,    8,\n",
       "        316,    8,  106,    5,    4, 2223, 5244,   16,  480,   66, 3785,\n",
       "         33,    4,  130,   12,   16,   38,  619,    5,   25,  124,   51,\n",
       "         36,  135,   48,   25, 1415,   33,    6,   22,   12,  215,   28,\n",
       "         77,   52,    5,   14,  407,   16,   82,    2,    8,    4,  107,\n",
       "        117, 5952,   15,  256,    4,    2,    7, 3766,    5,  723,   36,\n",
       "         71,   43,  530,  476,   26,  400,  317,   46,    7,    4,    2,\n",
       "       1029,   13,  104,   88,    4,  381,   15,  297,   98,   32, 2071,\n",
       "         56,   26,  141,    6,  194, 7486,   18,    4,  226,   22,   21,\n",
       "        134,  476,   26,  480,    5,  144,   30, 5535,   18,   51,   36,\n",
       "         28,  224,   92,   25,  104,    4,  226,   65,   16,   38, 1334,\n",
       "         88,   12,   16,  283,    5,   16, 4472,  113,  103,   32,   15,\n",
       "         16, 5345,   19,  178,   32])"
      ]
     },
     "execution_count": 24,
     "metadata": {},
     "output_type": "execute_result"
    }
   ],
   "source": [
    "x_train[0]"
   ]
  },
  {
   "cell_type": "code",
   "execution_count": 25,
   "id": "d9b7a920",
   "metadata": {},
   "outputs": [
    {
     "name": "stdout",
     "output_type": "stream",
     "text": [
      "500\n",
      "500\n",
      "500\n",
      "500\n",
      "500\n",
      "500\n",
      "500\n",
      "500\n",
      "500\n",
      "500\n"
     ]
    }
   ],
   "source": [
    "# Let us check the length of sample sequences in x_train after padding\n",
    "for i in range(10):\n",
    "    print(len(x_test[i]))"
   ]
  },
  {
   "cell_type": "code",
   "execution_count": 30,
   "id": "c37bc800",
   "metadata": {},
   "outputs": [
    {
     "name": "stdout",
     "output_type": "stream",
     "text": [
      "Model: \"sequential_1\"\n",
      "_________________________________________________________________\n",
      " Layer (type)                Output Shape              Param #   \n",
      "=================================================================\n",
      " embedding_1 (Embedding)     (None, 500, 32)           320000    \n",
      "                                                                 \n",
      " flatten_1 (Flatten)         (None, 16000)             0         \n",
      "                                                                 \n",
      " dense_3 (Dense)             (None, 16)                256016    \n",
      "                                                                 \n",
      " dense_4 (Dense)             (None, 16)                272       \n",
      "                                                                 \n",
      " dense_5 (Dense)             (None, 1)                 17        \n",
      "                                                                 \n",
      "=================================================================\n",
      "Total params: 576,305\n",
      "Trainable params: 576,305\n",
      "Non-trainable params: 0\n",
      "_________________________________________________________________\n",
      "None\n"
     ]
    }
   ],
   "source": [
    "embedding_vector_length = 32\n",
    "max_review_length = 500\n",
    "top_nwords = 10000\n",
    "\n",
    "## Sequential Model \n",
    "model = Sequential()\n",
    "model.add(Embedding(top_nwords, embedding_vector_length, input_length=max_review_length))\n",
    "model.add(Flatten())\n",
    "model.add(Dense(16, activation='relu'))\n",
    "model.add(Dense(16, activation='relu'))\n",
    "model.add(Dense(1, activation='sigmoid'))\n",
    "model.compile(loss='binary_crossentropy', optimizer='adam', metrics=['accuracy'])\n",
    "print(model.summary())"
   ]
  },
  {
   "cell_type": "code",
   "execution_count": 27,
   "id": "81db039f",
   "metadata": {},
   "outputs": [],
   "source": [
    "seq_model = model.fit(x_train, y_train, validation_data=(x_test, y_test), epochs=100, batch_size=64, verbose=0)"
   ]
  },
  {
   "cell_type": "code",
   "execution_count": 28,
   "id": "79af422e",
   "metadata": {},
   "outputs": [
    {
     "name": "stdout",
     "output_type": "stream",
     "text": [
      "782/782 [==============================] - 2s 2ms/step - loss: 4.0286e-07 - accuracy: 1.0000\n",
      "782/782 [==============================] - 2s 2ms/step - loss: 1.5413 - accuracy: 0.8504\n"
     ]
    }
   ],
   "source": [
    "seq_model_train_res = model.evaluate(x_train, y_train)\n",
    "seq_model_test_res = model.evaluate(x_test, y_test)"
   ]
  },
  {
   "cell_type": "code",
   "execution_count": 29,
   "id": "1bd8da43",
   "metadata": {},
   "outputs": [
    {
     "name": "stdout",
     "output_type": "stream",
     "text": [
      "Train Loss      : 4.028630371522013e-07  Train accuracy       : 1.0\n",
      "Test Loss       : 1.5412719249725342  Test accuracy        : 0.8504400253295898\n"
     ]
    }
   ],
   "source": [
    "print(\"Train Loss      : {}  Train accuracy       : {}\".format(seq_model_train_res[0],seq_model_train_res[1]))\n",
    "print(\"Test Loss       : {}  Test accuracy        : {}\".format(seq_model_test_res[0],seq_model_test_res[1]))"
   ]
  },
  {
   "cell_type": "code",
   "execution_count": 31,
   "id": "7bc2ea17",
   "metadata": {},
   "outputs": [
    {
     "name": "stdout",
     "output_type": "stream",
     "text": [
      "Epoch 102: early stopping\n"
     ]
    }
   ],
   "source": [
    "## Let us tune the model with additional parameters/early stopping. Re-executing the model and then fitting again\n",
    "early_stop = EarlyStopping(monitor='val_loss', verbose=1, mode='min', patience=100)\n",
    "tuned_model = model.fit(x_train, y_train, validation_data=(x_test, y_test), epochs=1000, batch_size=128, callbacks=[early_stop], verbose=0)"
   ]
  },
  {
   "cell_type": "code",
   "execution_count": 32,
   "id": "3eb96e2b",
   "metadata": {},
   "outputs": [
    {
     "name": "stdout",
     "output_type": "stream",
     "text": [
      "782/782 [==============================] - 2s 2ms/step - loss: 4.6667e-09 - accuracy: 1.0000\n",
      "782/782 [==============================] - 2s 2ms/step - loss: 1.1628 - accuracy: 0.8718\n"
     ]
    }
   ],
   "source": [
    "seq_model_train_res = model.evaluate(x_train, y_train)\n",
    "seq_model_test_res = model.evaluate(x_test, y_test)"
   ]
  },
  {
   "cell_type": "code",
   "execution_count": 33,
   "id": "2eefef77",
   "metadata": {},
   "outputs": [
    {
     "name": "stdout",
     "output_type": "stream",
     "text": [
      "Train Loss      : 4.66674965338143e-09 ; Train accuracy       : 1.0\n",
      "Test Loss       : 1.1627787351608276 ; Test accuracy        : 0.8718000054359436\n"
     ]
    }
   ],
   "source": [
    "print(\"Train Loss      : {} ; Train accuracy       : {}\".format(seq_model_train_res[0],seq_model_train_res[1]))\n",
    "print(\"Test Loss       : {} ; Test accuracy        : {}\".format(seq_model_test_res[0],seq_model_test_res[1]))"
   ]
  },
  {
   "cell_type": "markdown",
   "id": "dd6656d5",
   "metadata": {},
   "source": [
    "#### The tuned model has given accuracy score of 87.18% in test set."
   ]
  },
  {
   "cell_type": "code",
   "execution_count": 35,
   "id": "cc267868",
   "metadata": {},
   "outputs": [
    {
     "data": {
      "text/plain": [
       "[]"
      ]
     },
     "execution_count": 35,
     "metadata": {},
     "output_type": "execute_result"
    },
    {
     "data": {
      "image/png": "[encoded data removed]",
      "text/plain": [
       "<Figure size 432x288 with 1 Axes>"
      ]
     },
     "metadata": {},
     "output_type": "display_data"
    }
   ],
   "source": [
    "%matplotlib inline\n",
    "\n",
    "sns.set()\n",
    "acc = tuned_model.history['accuracy']\n",
    "val = tuned_model.history['val_accuracy']\n",
    "epochs = range(1, len(acc) + 1)\n",
    "\n",
    "plt.plot(epochs, acc, '-', label='Training accuracy')\n",
    "plt.plot(epochs, val, ':', label='Validation accuracy')\n",
    "plt.title('Training and Validation Accuracy')\n",
    "plt.xlabel('Epoch')\n",
    "plt.ylabel('Accuracy')\n",
    "plt.legend(loc='upper left')\n",
    "plt.plot()"
   ]
  },
  {
   "cell_type": "code",
   "execution_count": 36,
   "id": "322ac509",
   "metadata": {},
   "outputs": [
    {
     "data": {
      "text/plain": [
       "[]"
      ]
     },
     "execution_count": 36,
     "metadata": {},
     "output_type": "execute_result"
    },
    {
     "data": {
      "image/png": "[encoded data removed]",
      "text/plain": [
       "<Figure size 432x288 with 1 Axes>"
      ]
     },
     "metadata": {},
     "output_type": "display_data"
    }
   ],
   "source": [
    "loss = tuned_model.history['loss']\n",
    "val = tuned_model.history['val_loss']\n",
    "epochs = range(1, len(loss) + 1)\n",
    "\n",
    "plt.plot(epochs, loss, '-', label='Training loss')\n",
    "plt.plot(epochs, val, ':', label='Validation loss')\n",
    "plt.title('Training and Validation Loss')\n",
    "plt.xlabel('Epoch')\n",
    "plt.ylabel('Loss')\n",
    "plt.legend(loc='upper left')\n",
    "plt.plot()"
   ]
  },
  {
   "cell_type": "markdown",
   "id": "740ca187",
   "metadata": {},
   "source": [
    "## 6. Use the designed model to print the prediction on any one sample. [5 Marks]"
   ]
  },
  {
   "cell_type": "code",
   "execution_count": 37,
   "id": "2ddc6db4",
   "metadata": {},
   "outputs": [],
   "source": [
    "from keras_preprocessing import sequence\n",
    "\n",
    "def predict_sentiment(text):\n",
    "\n",
    "    # Removing punctuations if any    \n",
    "    text = text.translate(str.maketrans('', '', string.punctuation))\n",
    "    \n",
    "    # Convert to lower case\n",
    "    text = text.lower().split(' ')\n",
    "    text = [word for word in text if word.isalpha()]\n",
    "\n",
    "    # Generate input tensor\n",
    "    input = [1] # for start of sentence\n",
    "    for word in text:\n",
    "        if word in word_dict and word_dict[word] < top_nwords:\n",
    "            input.append(word_dict[word])\n",
    "        else:\n",
    "            input.append(2) # for unknown\n",
    "            \n",
    "    # Pad the input to have consistent length of 500\n",
    "    max_review_length=500    \n",
    "    padded_input = sequence.pad_sequences([input], maxlen=max_review_length)\n",
    "\n",
    "    # Invoke the model and return the result\n",
    "    result = model.predict(np.array([padded_input][0]))[0][0]\n",
    "    return result"
   ]
  },
  {
   "cell_type": "code",
   "execution_count": 38,
   "id": "cfe7d7f1",
   "metadata": {},
   "outputs": [
    {
     "name": "stdout",
     "output_type": "stream",
     "text": [
      "1/1 [==============================] - 0s 79ms/step\n"
     ]
    },
    {
     "data": {
      "text/plain": [
       "0.9999588"
      ]
     },
     "execution_count": 38,
     "metadata": {},
     "output_type": "execute_result"
    }
   ],
   "source": [
    "predict_sentiment('Very good movie. Great acting and very entertaining..')"
   ]
  },
  {
   "cell_type": "markdown",
   "id": "5c412556",
   "metadata": {},
   "source": [
    "- Correctly predicted as positive review"
   ]
  },
  {
   "cell_type": "code",
   "execution_count": 45,
   "id": "7a95d67e",
   "metadata": {},
   "outputs": [
    {
     "name": "stdout",
     "output_type": "stream",
     "text": [
      "1/1 [==============================] - 0s 19ms/step\n"
     ]
    },
    {
     "data": {
      "text/plain": [
       "0.15202557"
      ]
     },
     "execution_count": 45,
     "metadata": {},
     "output_type": "execute_result"
    }
   ],
   "source": [
    "predict_sentiment('very poor screen play and not so gripping story line. worst film') "
   ]
  },
  {
   "cell_type": "markdown",
   "id": "26641cab",
   "metadata": {},
   "source": [
    "- Correctly predicted as negative review"
   ]
  },
  {
   "cell_type": "code",
   "execution_count": 46,
   "id": "e6fb3021",
   "metadata": {},
   "outputs": [
    {
     "name": "stdout",
     "output_type": "stream",
     "text": [
      "1/1 [==============================] - 0s 20ms/step\n"
     ]
    },
    {
     "data": {
      "text/plain": [
       "0.20715088"
      ]
     },
     "execution_count": 46,
     "metadata": {},
     "output_type": "execute_result"
    }
   ],
   "source": [
    "predict_sentiment('such a boring movie to watch for 2 hrs') "
   ]
  },
  {
   "cell_type": "markdown",
   "id": "e23908d0",
   "metadata": {},
   "source": [
    "- Correctly predicted as negative review"
   ]
  },
  {
   "cell_type": "code",
   "execution_count": 47,
   "id": "66d37c12",
   "metadata": {},
   "outputs": [
    {
     "name": "stdout",
     "output_type": "stream",
     "text": [
      "1/1 [==============================] - 0s 20ms/step\n"
     ]
    },
    {
     "data": {
      "text/plain": [
       "0.9908558"
      ]
     },
     "execution_count": 47,
     "metadata": {},
     "output_type": "execute_result"
    }
   ],
   "source": [
    "predict_sentiment('happy to watch this movie with friends and family! great acting by all actors! highly recommend!')"
   ]
  },
  {
   "cell_type": "markdown",
   "id": "d159e665",
   "metadata": {},
   "source": [
    "- Correctly predicted as positive review"
   ]
  },
  {
   "cell_type": "code",
   "execution_count": 53,
   "id": "1f330351",
   "metadata": {},
   "outputs": [
    {
     "name": "stdout",
     "output_type": "stream",
     "text": [
      "1/1 [==============================] - 0s 19ms/step\n"
     ]
    },
    {
     "data": {
      "text/plain": [
       "0.6519833"
      ]
     },
     "execution_count": 53,
     "metadata": {},
     "output_type": "execute_result"
    }
   ],
   "source": [
    "predict_sentiment('Not so great movie. One time watchable. Poor acting.')"
   ]
  },
  {
   "cell_type": "markdown",
   "id": "ab9a78dc",
   "metadata": {},
   "source": [
    "- Correctly predicted as average review."
   ]
  },
  {
   "cell_type": "markdown",
   "id": "e7431232",
   "metadata": {},
   "source": [
    "# PartB\n",
    "## 1. Read and explore the data [3 Marks]"
   ]
  },
  {
   "cell_type": "code",
   "execution_count": 54,
   "id": "d35a1a8c",
   "metadata": {},
   "outputs": [],
   "source": [
    "# Function to read the given json file\n",
    "def read_json(file_nm):\n",
    "    for line in open(file_nm, 'r'):\n",
    "        yield eval(line)"
   ]
  },
  {
   "cell_type": "code",
   "execution_count": 55,
   "id": "b40c7434",
   "metadata": {},
   "outputs": [],
   "source": [
    "sh_data = list(read_json(\"./Sarcasm_Headlines_Dataset.json\"))"
   ]
  },
  {
   "cell_type": "code",
   "execution_count": 107,
   "id": "dc7e3afc",
   "metadata": {},
   "outputs": [
    {
     "data": {
      "text/plain": [
       "[{'is_sarcastic': 1,\n",
       "  'headline': 'thirtysomething scientists unveil doomsday clock of hair loss',\n",
       "  'article_link': 'https://www.theonion.com/thirtysomething-scientists-unveil-doomsday-clock-of-hai-1819586205'},\n",
       " {'is_sarcastic': 0,\n",
       "  'headline': 'dem rep. totally nails why congress is falling short on gender, racial equality',\n",
       "  'article_link': 'https://www.huffingtonpost.com/entry/donna-edwards-inequality_us_57455f7fe4b055bb1170b207'}]"
      ]
     },
     "execution_count": 107,
     "metadata": {},
     "output_type": "execute_result"
    }
   ],
   "source": [
    "sh_data[:2]"
   ]
  },
  {
   "cell_type": "code",
   "execution_count": 57,
   "id": "21ffe0ca",
   "metadata": {},
   "outputs": [
    {
     "data": {
      "text/html": [
       "<div>\n",
       "<style scoped>\n",
       "    .dataframe tbody tr th:only-of-type {\n",
       "        vertical-align: middle;\n",
       "    }\n",
       "\n",
       "    .dataframe tbody tr th {\n",
       "        vertical-align: top;\n",
       "    }\n",
       "\n",
       "    .dataframe thead th {\n",
       "        text-align: right;\n",
       "    }\n",
       "</style>\n",
       "<table border=\"1\" class=\"dataframe\">\n",
       "  <thead>\n",
       "    <tr style=\"text-align: right;\">\n",
       "      <th></th>\n",
       "      <th>is_sarcastic</th>\n",
       "      <th>headline</th>\n",
       "      <th>article_link</th>\n",
       "    </tr>\n",
       "  </thead>\n",
       "  <tbody>\n",
       "    <tr>\n",
       "      <th>0</th>\n",
       "      <td>1</td>\n",
       "      <td>thirtysomething scientists unveil doomsday clo...</td>\n",
       "      <td>https://www.theonion.com/thirtysomething-scien...</td>\n",
       "    </tr>\n",
       "    <tr>\n",
       "      <th>1</th>\n",
       "      <td>0</td>\n",
       "      <td>dem rep. totally nails why congress is falling...</td>\n",
       "      <td>https://www.huffingtonpost.com/entry/donna-edw...</td>\n",
       "    </tr>\n",
       "    <tr>\n",
       "      <th>2</th>\n",
       "      <td>0</td>\n",
       "      <td>eat your veggies: 9 deliciously different recipes</td>\n",
       "      <td>https://www.huffingtonpost.com/entry/eat-your-...</td>\n",
       "    </tr>\n",
       "    <tr>\n",
       "      <th>3</th>\n",
       "      <td>1</td>\n",
       "      <td>inclement weather prevents liar from getting t...</td>\n",
       "      <td>https://local.theonion.com/inclement-weather-p...</td>\n",
       "    </tr>\n",
       "    <tr>\n",
       "      <th>4</th>\n",
       "      <td>1</td>\n",
       "      <td>mother comes pretty close to using word 'strea...</td>\n",
       "      <td>https://www.theonion.com/mother-comes-pretty-c...</td>\n",
       "    </tr>\n",
       "  </tbody>\n",
       "</table>\n",
       "</div>"
      ],
      "text/plain": [
       "   is_sarcastic                                           headline  \\\n",
       "0             1  thirtysomething scientists unveil doomsday clo...   \n",
       "1             0  dem rep. totally nails why congress is falling...   \n",
       "2             0  eat your veggies: 9 deliciously different recipes   \n",
       "3             1  inclement weather prevents liar from getting t...   \n",
       "4             1  mother comes pretty close to using word 'strea...   \n",
       "\n",
       "                                        article_link  \n",
       "0  https://www.theonion.com/thirtysomething-scien...  \n",
       "1  https://www.huffingtonpost.com/entry/donna-edw...  \n",
       "2  https://www.huffingtonpost.com/entry/eat-your-...  \n",
       "3  https://local.theonion.com/inclement-weather-p...  \n",
       "4  https://www.theonion.com/mother-comes-pretty-c...  "
      ]
     },
     "execution_count": 57,
     "metadata": {},
     "output_type": "execute_result"
    }
   ],
   "source": [
    "sh_df=pd.DataFrame.from_dict(sh_data)\n",
    "sh_df.head()"
   ]
  },
  {
   "cell_type": "code",
   "execution_count": 58,
   "id": "88182397",
   "metadata": {},
   "outputs": [
    {
     "data": {
      "text/plain": [
       "(28619, 3)"
      ]
     },
     "execution_count": 58,
     "metadata": {},
     "output_type": "execute_result"
    }
   ],
   "source": [
    "sh_df.shape"
   ]
  },
  {
   "cell_type": "code",
   "execution_count": 59,
   "id": "226a0e42",
   "metadata": {},
   "outputs": [
    {
     "name": "stdout",
     "output_type": "stream",
     "text": [
      "<class 'pandas.core.frame.DataFrame'>\n",
      "RangeIndex: 28619 entries, 0 to 28618\n",
      "Data columns (total 3 columns):\n",
      " #   Column        Non-Null Count  Dtype \n",
      "---  ------        --------------  ----- \n",
      " 0   is_sarcastic  28619 non-null  int64 \n",
      " 1   headline      28619 non-null  object\n",
      " 2   article_link  28619 non-null  object\n",
      "dtypes: int64(1), object(2)\n",
      "memory usage: 670.9+ KB\n"
     ]
    }
   ],
   "source": [
    "sh_df.info()"
   ]
  },
  {
   "cell_type": "code",
   "execution_count": 60,
   "id": "4690a841",
   "metadata": {},
   "outputs": [
    {
     "data": {
      "text/plain": [
       "0    14985\n",
       "1    13634\n",
       "Name: is_sarcastic, dtype: int64"
      ]
     },
     "execution_count": 60,
     "metadata": {},
     "output_type": "execute_result"
    }
   ],
   "source": [
    "sh_df['is_sarcastic'].value_counts()"
   ]
  },
  {
   "cell_type": "code",
   "execution_count": 61,
   "id": "cf13e98f",
   "metadata": {},
   "outputs": [
    {
     "data": {
      "text/plain": [
       "<AxesSubplot:xlabel='is_sarcastic', ylabel='Count'>"
      ]
     },
     "execution_count": 61,
     "metadata": {},
     "output_type": "execute_result"
    },
    {
     "data": {
      "image/png": "[encoded data removed]",
      "text/plain": [
       "<Figure size 288x288 with 1 Axes>"
      ]
     },
     "metadata": {},
     "output_type": "display_data"
    }
   ],
   "source": [
    "plt.figure(figsize=(4,4))\n",
    "sns.histplot(data=sh_df,x=\"is_sarcastic\",kde=True,color=\"c\")"
   ]
  },
  {
   "cell_type": "markdown",
   "id": "d84f675d",
   "metadata": {},
   "source": [
    "## 2. Retain relevant columns [3 Marks]"
   ]
  },
  {
   "cell_type": "code",
   "execution_count": 62,
   "id": "28ebdd15",
   "metadata": {},
   "outputs": [
    {
     "data": {
      "text/html": [
       "<div>\n",
       "<style scoped>\n",
       "    .dataframe tbody tr th:only-of-type {\n",
       "        vertical-align: middle;\n",
       "    }\n",
       "\n",
       "    .dataframe tbody tr th {\n",
       "        vertical-align: top;\n",
       "    }\n",
       "\n",
       "    .dataframe thead th {\n",
       "        text-align: right;\n",
       "    }\n",
       "</style>\n",
       "<table border=\"1\" class=\"dataframe\">\n",
       "  <thead>\n",
       "    <tr style=\"text-align: right;\">\n",
       "      <th></th>\n",
       "      <th>headline</th>\n",
       "      <th>is_sarcastic</th>\n",
       "    </tr>\n",
       "  </thead>\n",
       "  <tbody>\n",
       "    <tr>\n",
       "      <th>0</th>\n",
       "      <td>thirtysomething scientists unveil doomsday clo...</td>\n",
       "      <td>1</td>\n",
       "    </tr>\n",
       "    <tr>\n",
       "      <th>1</th>\n",
       "      <td>dem rep. totally nails why congress is falling...</td>\n",
       "      <td>0</td>\n",
       "    </tr>\n",
       "    <tr>\n",
       "      <th>2</th>\n",
       "      <td>eat your veggies: 9 deliciously different recipes</td>\n",
       "      <td>0</td>\n",
       "    </tr>\n",
       "    <tr>\n",
       "      <th>3</th>\n",
       "      <td>inclement weather prevents liar from getting t...</td>\n",
       "      <td>1</td>\n",
       "    </tr>\n",
       "    <tr>\n",
       "      <th>4</th>\n",
       "      <td>mother comes pretty close to using word 'strea...</td>\n",
       "      <td>1</td>\n",
       "    </tr>\n",
       "  </tbody>\n",
       "</table>\n",
       "</div>"
      ],
      "text/plain": [
       "                                            headline  is_sarcastic\n",
       "0  thirtysomething scientists unveil doomsday clo...             1\n",
       "1  dem rep. totally nails why congress is falling...             0\n",
       "2  eat your veggies: 9 deliciously different recipes             0\n",
       "3  inclement weather prevents liar from getting t...             1\n",
       "4  mother comes pretty close to using word 'strea...             1"
      ]
     },
     "execution_count": 62,
     "metadata": {},
     "output_type": "execute_result"
    }
   ],
   "source": [
    "# Only headline and is_sarcastic are relevant in this dataframe. \n",
    "sh_df1=sh_df[['headline','is_sarcastic']]\n",
    "sh_df1.head()"
   ]
  },
  {
   "cell_type": "code",
   "execution_count": 63,
   "id": "56f4fb30",
   "metadata": {},
   "outputs": [
    {
     "data": {
      "text/plain": [
       "(28619, 2)"
      ]
     },
     "execution_count": 63,
     "metadata": {},
     "output_type": "execute_result"
    }
   ],
   "source": [
    "sh_df1.shape"
   ]
  },
  {
   "cell_type": "code",
   "execution_count": 64,
   "id": "a9a5c40e",
   "metadata": {},
   "outputs": [
    {
     "name": "stdout",
     "output_type": "stream",
     "text": [
      "<class 'pandas.core.frame.DataFrame'>\n",
      "RangeIndex: 28619 entries, 0 to 28618\n",
      "Data columns (total 2 columns):\n",
      " #   Column        Non-Null Count  Dtype \n",
      "---  ------        --------------  ----- \n",
      " 0   headline      28619 non-null  object\n",
      " 1   is_sarcastic  28619 non-null  int64 \n",
      "dtypes: int64(1), object(1)\n",
      "memory usage: 447.3+ KB\n"
     ]
    }
   ],
   "source": [
    "sh_df1.info()"
   ]
  },
  {
   "cell_type": "markdown",
   "id": "8fd3a750",
   "metadata": {},
   "source": [
    "## 3. Get length of each sentence [3 Marks]"
   ]
  },
  {
   "cell_type": "code",
   "execution_count": 65,
   "id": "fc946273",
   "metadata": {},
   "outputs": [
    {
     "data": {
      "text/html": [
       "<div>\n",
       "<style scoped>\n",
       "    .dataframe tbody tr th:only-of-type {\n",
       "        vertical-align: middle;\n",
       "    }\n",
       "\n",
       "    .dataframe tbody tr th {\n",
       "        vertical-align: top;\n",
       "    }\n",
       "\n",
       "    .dataframe thead th {\n",
       "        text-align: right;\n",
       "    }\n",
       "</style>\n",
       "<table border=\"1\" class=\"dataframe\">\n",
       "  <thead>\n",
       "    <tr style=\"text-align: right;\">\n",
       "      <th></th>\n",
       "      <th>headline</th>\n",
       "      <th>is_sarcastic</th>\n",
       "      <th>sntnc_len</th>\n",
       "    </tr>\n",
       "  </thead>\n",
       "  <tbody>\n",
       "    <tr>\n",
       "      <th>0</th>\n",
       "      <td>thirtysomething scientists unveil doomsday clo...</td>\n",
       "      <td>1</td>\n",
       "      <td>61</td>\n",
       "    </tr>\n",
       "    <tr>\n",
       "      <th>1</th>\n",
       "      <td>dem rep. totally nails why congress is falling...</td>\n",
       "      <td>0</td>\n",
       "      <td>79</td>\n",
       "    </tr>\n",
       "    <tr>\n",
       "      <th>2</th>\n",
       "      <td>eat your veggies: 9 deliciously different recipes</td>\n",
       "      <td>0</td>\n",
       "      <td>49</td>\n",
       "    </tr>\n",
       "    <tr>\n",
       "      <th>3</th>\n",
       "      <td>inclement weather prevents liar from getting t...</td>\n",
       "      <td>1</td>\n",
       "      <td>52</td>\n",
       "    </tr>\n",
       "    <tr>\n",
       "      <th>4</th>\n",
       "      <td>mother comes pretty close to using word 'strea...</td>\n",
       "      <td>1</td>\n",
       "      <td>61</td>\n",
       "    </tr>\n",
       "  </tbody>\n",
       "</table>\n",
       "</div>"
      ],
      "text/plain": [
       "                                            headline  is_sarcastic  sntnc_len\n",
       "0  thirtysomething scientists unveil doomsday clo...             1         61\n",
       "1  dem rep. totally nails why congress is falling...             0         79\n",
       "2  eat your veggies: 9 deliciously different recipes             0         49\n",
       "3  inclement weather prevents liar from getting t...             1         52\n",
       "4  mother comes pretty close to using word 'strea...             1         61"
      ]
     },
     "execution_count": 65,
     "metadata": {},
     "output_type": "execute_result"
    }
   ],
   "source": [
    "# Getting the length of each sentence as is.\n",
    "sh_df1['sntnc_len']=sh_df1['headline'].apply(lambda s: len(s))\n",
    "sh_df1.head()"
   ]
  },
  {
   "cell_type": "code",
   "execution_count": 66,
   "id": "d64c2525",
   "metadata": {},
   "outputs": [],
   "source": [
    "# Let us take only Alpha numeric characters and ignore all punctuations \n",
    "sh_df1['headline'] = sh_df1['headline'].apply(lambda x: x.lower())\n",
    "sh_df1['headline'] = sh_df1['headline'].apply((lambda x: re.sub('[^a-zA-z0-9\\s]','',x)))"
   ]
  },
  {
   "cell_type": "code",
   "execution_count": 67,
   "id": "29731c26",
   "metadata": {},
   "outputs": [
    {
     "data": {
      "text/html": [
       "<div>\n",
       "<style scoped>\n",
       "    .dataframe tbody tr th:only-of-type {\n",
       "        vertical-align: middle;\n",
       "    }\n",
       "\n",
       "    .dataframe tbody tr th {\n",
       "        vertical-align: top;\n",
       "    }\n",
       "\n",
       "    .dataframe thead th {\n",
       "        text-align: right;\n",
       "    }\n",
       "</style>\n",
       "<table border=\"1\" class=\"dataframe\">\n",
       "  <thead>\n",
       "    <tr style=\"text-align: right;\">\n",
       "      <th></th>\n",
       "      <th>headline</th>\n",
       "      <th>is_sarcastic</th>\n",
       "      <th>sntnc_len</th>\n",
       "    </tr>\n",
       "  </thead>\n",
       "  <tbody>\n",
       "    <tr>\n",
       "      <th>0</th>\n",
       "      <td>thirtysomething scientists unveil doomsday clo...</td>\n",
       "      <td>1</td>\n",
       "      <td>61</td>\n",
       "    </tr>\n",
       "    <tr>\n",
       "      <th>1</th>\n",
       "      <td>dem rep totally nails why congress is falling ...</td>\n",
       "      <td>0</td>\n",
       "      <td>77</td>\n",
       "    </tr>\n",
       "    <tr>\n",
       "      <th>2</th>\n",
       "      <td>eat your veggies 9 deliciously different recipes</td>\n",
       "      <td>0</td>\n",
       "      <td>48</td>\n",
       "    </tr>\n",
       "    <tr>\n",
       "      <th>3</th>\n",
       "      <td>inclement weather prevents liar from getting t...</td>\n",
       "      <td>1</td>\n",
       "      <td>52</td>\n",
       "    </tr>\n",
       "    <tr>\n",
       "      <th>4</th>\n",
       "      <td>mother comes pretty close to using word stream...</td>\n",
       "      <td>1</td>\n",
       "      <td>59</td>\n",
       "    </tr>\n",
       "  </tbody>\n",
       "</table>\n",
       "</div>"
      ],
      "text/plain": [
       "                                            headline  is_sarcastic  sntnc_len\n",
       "0  thirtysomething scientists unveil doomsday clo...             1         61\n",
       "1  dem rep totally nails why congress is falling ...             0         77\n",
       "2   eat your veggies 9 deliciously different recipes             0         48\n",
       "3  inclement weather prevents liar from getting t...             1         52\n",
       "4  mother comes pretty close to using word stream...             1         59"
      ]
     },
     "execution_count": 67,
     "metadata": {},
     "output_type": "execute_result"
    }
   ],
   "source": [
    "# Now let us calculate the length of sentences again after keeping only alphas numeric characters\n",
    "sh_df1['sntnc_len']=sh_df1['headline'].apply(lambda s: len(s))\n",
    "sh_df1.head()"
   ]
  },
  {
   "cell_type": "markdown",
   "id": "6144129c",
   "metadata": {},
   "source": [
    "## 4. Define parameters [3 Marks]"
   ]
  },
  {
   "cell_type": "markdown",
   "id": "0846a858",
   "metadata": {},
   "source": [
    "#### Defining parameters for Tokenizer\n",
    "- We can define the below parameters and keep rest all with defualt values. <br>\n",
    "`num_words` : the maximum number of words to keep, based on word frequency. Only the most common num_words-1 words will be kept.<br> Considering the total number of records of 28619 records i.e sequences, let us keep top 10000 frequent words, which is more than enough to pick all possible words. so num_words can be 10000.<br>\n",
    "`oov_token` : if given, it will be added to word_index and used to replace out-of-vocabulary words during text_to_sequence. calls<br> oov_token='OOV'\n"
   ]
  },
  {
   "cell_type": "code",
   "execution_count": 68,
   "id": "90afd557",
   "metadata": {},
   "outputs": [],
   "source": [
    "# max_features: Number of words to take from tokenizer\n",
    "max_features = 10000 # will be assigned for num_words\n",
    "oov_token=\"<OOV>\""
   ]
  },
  {
   "cell_type": "markdown",
   "id": "4a620949",
   "metadata": {},
   "source": [
    "#### Defining parameters for pad_sequences\n",
    "- We can define the below parameters and keep rest all with defualt values. <br>\n",
    "`padding` : String, \"pre\" or \"post\" (optional, defaults to \"pre\"): pad either before or after each sequence.<br> we can set padding as 'post' <br>\n",
    "`truncating` : String, \"pre\" or \"post\" (optional, defaults to \"pre\"): remove values from sequences larger than maxlen, either at the beginning or at the end of the sequences.<br> we can set truncating as 'post' <br>\n",
    "`maxlen` : Optional Int, maximum length of all sequences. If not provided, sequences will be padded to the length of the longest individual sequence. <br> To set this we need to explore the data more. Below is the analysis\n"
   ]
  },
  {
   "cell_type": "code",
   "execution_count": 69,
   "id": "f4db3382",
   "metadata": {},
   "outputs": [
    {
     "name": "stdout",
     "output_type": "stream",
     "text": [
      "Maximum length of the sentence : 910\n"
     ]
    }
   ],
   "source": [
    "# Let us explore the data in order to set values for parameters\n",
    "# For setting num_words parameter, let us analyze length of sentences\n",
    "\n",
    "max_sntnc_len = sh_df1['sntnc_len'].max()\n",
    "print(\"Maximum length of the sentence : {}\".format(max_sntnc_len))"
   ]
  },
  {
   "cell_type": "code",
   "execution_count": 70,
   "id": "7fa107e3",
   "metadata": {},
   "outputs": [
    {
     "data": {
      "text/html": [
       "<div>\n",
       "<style scoped>\n",
       "    .dataframe tbody tr th:only-of-type {\n",
       "        vertical-align: middle;\n",
       "    }\n",
       "\n",
       "    .dataframe tbody tr th {\n",
       "        vertical-align: top;\n",
       "    }\n",
       "\n",
       "    .dataframe thead th {\n",
       "        text-align: right;\n",
       "    }\n",
       "</style>\n",
       "<table border=\"1\" class=\"dataframe\">\n",
       "  <thead>\n",
       "    <tr style=\"text-align: right;\">\n",
       "      <th></th>\n",
       "      <th>headline</th>\n",
       "      <th>is_sarcastic</th>\n",
       "      <th>sntnc_len</th>\n",
       "    </tr>\n",
       "  </thead>\n",
       "  <tbody>\n",
       "    <tr>\n",
       "      <th>7302</th>\n",
       "      <td>hot wheels ranked number one toy for rolling d...</td>\n",
       "      <td>1</td>\n",
       "      <td>910</td>\n",
       "    </tr>\n",
       "    <tr>\n",
       "      <th>2146</th>\n",
       "      <td>maya angelou poet author civil rights activist...</td>\n",
       "      <td>1</td>\n",
       "      <td>237</td>\n",
       "    </tr>\n",
       "    <tr>\n",
       "      <th>24815</th>\n",
       "      <td>elmore leonard modern prose master noted for h...</td>\n",
       "      <td>1</td>\n",
       "      <td>234</td>\n",
       "    </tr>\n",
       "    <tr>\n",
       "      <th>23598</th>\n",
       "      <td>occasionally you realize someone you thought w...</td>\n",
       "      <td>0</td>\n",
       "      <td>224</td>\n",
       "    </tr>\n",
       "    <tr>\n",
       "      <th>16588</th>\n",
       "      <td>12 years a slave captain phillips american hus...</td>\n",
       "      <td>1</td>\n",
       "      <td>209</td>\n",
       "    </tr>\n",
       "    <tr>\n",
       "      <th>26597</th>\n",
       "      <td>jared kushner claims that russian interference...</td>\n",
       "      <td>1</td>\n",
       "      <td>202</td>\n",
       "    </tr>\n",
       "    <tr>\n",
       "      <th>4688</th>\n",
       "      <td>roy moore on pedophilia accusers these women a...</td>\n",
       "      <td>1</td>\n",
       "      <td>187</td>\n",
       "    </tr>\n",
       "    <tr>\n",
       "      <th>27972</th>\n",
       "      <td>mia farrow its possible my son was fathered by...</td>\n",
       "      <td>1</td>\n",
       "      <td>186</td>\n",
       "    </tr>\n",
       "    <tr>\n",
       "      <th>25133</th>\n",
       "      <td>sessions argues justice department will not be...</td>\n",
       "      <td>1</td>\n",
       "      <td>162</td>\n",
       "    </tr>\n",
       "    <tr>\n",
       "      <th>2426</th>\n",
       "      <td>report doing your part to stop climate change ...</td>\n",
       "      <td>1</td>\n",
       "      <td>154</td>\n",
       "    </tr>\n",
       "    <tr>\n",
       "      <th>21199</th>\n",
       "      <td>something to vote for on november 8 2016      ...</td>\n",
       "      <td>0</td>\n",
       "      <td>151</td>\n",
       "    </tr>\n",
       "    <tr>\n",
       "      <th>26943</th>\n",
       "      <td>with big names like the cure and grimes shinin...</td>\n",
       "      <td>0</td>\n",
       "      <td>150</td>\n",
       "    </tr>\n",
       "    <tr>\n",
       "      <th>11585</th>\n",
       "      <td>onion social ceo rebukes 480000 crimes at inte...</td>\n",
       "      <td>1</td>\n",
       "      <td>150</td>\n",
       "    </tr>\n",
       "    <tr>\n",
       "      <th>5032</th>\n",
       "      <td>trump vindicated after rest of leaked recordin...</td>\n",
       "      <td>1</td>\n",
       "      <td>149</td>\n",
       "    </tr>\n",
       "    <tr>\n",
       "      <th>24704</th>\n",
       "      <td>newly uncovered journals reveal alexander grah...</td>\n",
       "      <td>1</td>\n",
       "      <td>148</td>\n",
       "    </tr>\n",
       "    <tr>\n",
       "      <th>25785</th>\n",
       "      <td>the rca  arista years a conversation with laur...</td>\n",
       "      <td>0</td>\n",
       "      <td>145</td>\n",
       "    </tr>\n",
       "    <tr>\n",
       "      <th>17751</th>\n",
       "      <td>multiinstitutional collaborative clinical tria...</td>\n",
       "      <td>0</td>\n",
       "      <td>144</td>\n",
       "    </tr>\n",
       "    <tr>\n",
       "      <th>13154</th>\n",
       "      <td>mega millions winner announces plans to lose t...</td>\n",
       "      <td>1</td>\n",
       "      <td>142</td>\n",
       "    </tr>\n",
       "    <tr>\n",
       "      <th>5354</th>\n",
       "      <td>jay inslee recalls decision to run for preside...</td>\n",
       "      <td>1</td>\n",
       "      <td>140</td>\n",
       "    </tr>\n",
       "    <tr>\n",
       "      <th>9560</th>\n",
       "      <td>man who bought 34th anniversary reissue of fle...</td>\n",
       "      <td>1</td>\n",
       "      <td>140</td>\n",
       "    </tr>\n",
       "  </tbody>\n",
       "</table>\n",
       "</div>"
      ],
      "text/plain": [
       "                                                headline  is_sarcastic  \\\n",
       "7302   hot wheels ranked number one toy for rolling d...             1   \n",
       "2146   maya angelou poet author civil rights activist...             1   \n",
       "24815  elmore leonard modern prose master noted for h...             1   \n",
       "23598  occasionally you realize someone you thought w...             0   \n",
       "16588  12 years a slave captain phillips american hus...             1   \n",
       "26597  jared kushner claims that russian interference...             1   \n",
       "4688   roy moore on pedophilia accusers these women a...             1   \n",
       "27972  mia farrow its possible my son was fathered by...             1   \n",
       "25133  sessions argues justice department will not be...             1   \n",
       "2426   report doing your part to stop climate change ...             1   \n",
       "21199  something to vote for on november 8 2016      ...             0   \n",
       "26943  with big names like the cure and grimes shinin...             0   \n",
       "11585  onion social ceo rebukes 480000 crimes at inte...             1   \n",
       "5032   trump vindicated after rest of leaked recordin...             1   \n",
       "24704  newly uncovered journals reveal alexander grah...             1   \n",
       "25785  the rca  arista years a conversation with laur...             0   \n",
       "17751  multiinstitutional collaborative clinical tria...             0   \n",
       "13154  mega millions winner announces plans to lose t...             1   \n",
       "5354   jay inslee recalls decision to run for preside...             1   \n",
       "9560   man who bought 34th anniversary reissue of fle...             1   \n",
       "\n",
       "       sntnc_len  \n",
       "7302         910  \n",
       "2146         237  \n",
       "24815        234  \n",
       "23598        224  \n",
       "16588        209  \n",
       "26597        202  \n",
       "4688         187  \n",
       "27972        186  \n",
       "25133        162  \n",
       "2426         154  \n",
       "21199        151  \n",
       "26943        150  \n",
       "11585        150  \n",
       "5032         149  \n",
       "24704        148  \n",
       "25785        145  \n",
       "17751        144  \n",
       "13154        142  \n",
       "5354         140  \n",
       "9560         140  "
      ]
     },
     "execution_count": 70,
     "metadata": {},
     "output_type": "execute_result"
    }
   ],
   "source": [
    "# Let us take top 20 sentence lengths sorted in descending order\n",
    "sh_df2 = sh_df1.sort_values('sntnc_len',ascending = False)\n",
    "sh_df2.head(20)"
   ]
  },
  {
   "cell_type": "markdown",
   "id": "0b4494f6",
   "metadata": {},
   "source": [
    "- As we see above, the maximum sentence length is 910, but it is just for one record. The sentence lengths have consistently declined to 100s. Considering the total number of rows of 28619, and sentence lengths have declined to 100s within 20 top records, we can set maxlen as 100."
   ]
  },
  {
   "cell_type": "code",
   "execution_count": 71,
   "id": "bd18070f",
   "metadata": {},
   "outputs": [],
   "source": [
    "# maxlen: Maximum length of each sentence\n",
    "max_length = 100 # will be assigned for max_len"
   ]
  },
  {
   "cell_type": "markdown",
   "id": "7061dad7",
   "metadata": {},
   "source": [
    "#### Defining size of embedding vector\n",
    "- embedding_dim can be defined as 100. This will be output dimension of the Kera embedding layer. "
   ]
  },
  {
   "cell_type": "markdown",
   "id": "006cc8b7",
   "metadata": {},
   "source": [
    "#### Consolidated definition of parameters:"
   ]
  },
  {
   "cell_type": "code",
   "execution_count": 72,
   "id": "918c1427",
   "metadata": {},
   "outputs": [],
   "source": [
    "# max_features: Number of words to take from tokenizer\n",
    "max_features = 10000 # will be assigned for num_words\n",
    "oov_token=\"<OOV>\"\n",
    "\n",
    "# maxlen: Maximum length of each sentence\n",
    "max_length = 100       # will be assigned for maxlen\n",
    "\n",
    "padding='post'\n",
    "truncating='post'\n",
    "\n",
    "# embedding_size: Size of embedding vector\n",
    "embedding_dim = 100"
   ]
  },
  {
   "cell_type": "markdown",
   "id": "b8315f76",
   "metadata": {},
   "source": [
    "## 5. Get indices for words [3 Marks]"
   ]
  },
  {
   "cell_type": "code",
   "execution_count": 73,
   "id": "26a700a6",
   "metadata": {},
   "outputs": [],
   "source": [
    "tokenizer = Tokenizer(num_words=max_features, oov_token=\"<OOV>\")\n",
    "tokenizer.fit_on_texts(sh_df1['headline'])\n",
    "word_index = tokenizer.word_index"
   ]
  },
  {
   "cell_type": "code",
   "execution_count": 109,
   "id": "71fba87a",
   "metadata": {},
   "outputs": [
    {
     "name": "stdout",
     "output_type": "stream",
     "text": [
      "Total number of word,index pairs :29646\n"
     ]
    },
    {
     "data": {
      "text/plain": [
       "[('<OOV>', 1),\n",
       " ('to', 2),\n",
       " ('of', 3),\n",
       " ('the', 4),\n",
       " ('in', 5),\n",
       " ('for', 6),\n",
       " ('a', 7),\n",
       " ('on', 8),\n",
       " ('and', 9),\n",
       " ('with', 10)]"
      ]
     },
     "execution_count": 109,
     "metadata": {},
     "output_type": "execute_result"
    }
   ],
   "source": [
    "print(\"Total number of word,index pairs :{}\".format(len(word_index)))\n",
    "\n",
    "list(word_index.items())[:10]"
   ]
  },
  {
   "cell_type": "code",
   "execution_count": 75,
   "id": "2e296e4b",
   "metadata": {},
   "outputs": [],
   "source": [
    "idx_word = tokenizer.index_word"
   ]
  },
  {
   "cell_type": "code",
   "execution_count": 110,
   "id": "3ca08bba",
   "metadata": {},
   "outputs": [
    {
     "name": "stdout",
     "output_type": "stream",
     "text": [
      "Total number of index,word pairs :29646\n"
     ]
    },
    {
     "data": {
      "text/plain": [
       "[(1, '<OOV>'),\n",
       " (2, 'to'),\n",
       " (3, 'of'),\n",
       " (4, 'the'),\n",
       " (5, 'in'),\n",
       " (6, 'for'),\n",
       " (7, 'a'),\n",
       " (8, 'on'),\n",
       " (9, 'and'),\n",
       " (10, 'with')]"
      ]
     },
     "execution_count": 110,
     "metadata": {},
     "output_type": "execute_result"
    }
   ],
   "source": [
    "print(\"Total number of index,word pairs :{}\".format(len(idx_word)))\n",
    "list(idx_word.items())[:10]"
   ]
  },
  {
   "cell_type": "code",
   "execution_count": 77,
   "id": "ae3b7583",
   "metadata": {},
   "outputs": [],
   "source": [
    "word_counts = tokenizer.word_counts\n",
    "num_words = len(word_counts)"
   ]
  },
  {
   "cell_type": "code",
   "execution_count": 78,
   "id": "00037f8c",
   "metadata": {},
   "outputs": [
    {
     "name": "stdout",
     "output_type": "stream",
     "text": [
      "Total number of words :29645\n"
     ]
    }
   ],
   "source": [
    "print(\"Total number of words :{}\".format(num_words))"
   ]
  },
  {
   "cell_type": "code",
   "execution_count": 112,
   "id": "aaa0998a",
   "metadata": {},
   "outputs": [
    {
     "data": {
      "text/plain": [
       "[('thirtysomething', 1),\n",
       " ('scientists', 103),\n",
       " ('unveil', 13),\n",
       " ('doomsday', 5),\n",
       " ('clock', 18),\n",
       " ('of', 6263),\n",
       " ('hair', 59),\n",
       " ('loss', 38),\n",
       " ('dem', 4),\n",
       " ('rep', 25)]"
      ]
     },
     "execution_count": 112,
     "metadata": {},
     "output_type": "execute_result"
    }
   ],
   "source": [
    "list(word_counts.items())[:10]"
   ]
  },
  {
   "cell_type": "markdown",
   "id": "a14f2323",
   "metadata": {},
   "source": [
    "## 6. Create features and labels [3 Marks]"
   ]
  },
  {
   "cell_type": "code",
   "execution_count": 80,
   "id": "9c5f5290",
   "metadata": {},
   "outputs": [],
   "source": [
    "sequences = tokenizer.texts_to_sequences(sh_df1['headline'].values)"
   ]
  },
  {
   "cell_type": "code",
   "execution_count": 81,
   "id": "3f107db6",
   "metadata": {},
   "outputs": [
    {
     "data": {
      "text/plain": [
       "28619"
      ]
     },
     "execution_count": 81,
     "metadata": {},
     "output_type": "execute_result"
    }
   ],
   "source": [
    "len(sequences)"
   ]
  },
  {
   "cell_type": "code",
   "execution_count": 114,
   "id": "f1fea82e",
   "metadata": {},
   "outputs": [
    {
     "name": "stdout",
     "output_type": "stream",
     "text": [
      "index : 0 , Seq_length : 8\n",
      "index : 1 , Seq_length : 13\n",
      "index : 2 , Seq_length : 7\n",
      "index : 3 , Seq_length : 8\n",
      "index : 4 , Seq_length : 9\n",
      "index : 5 , Seq_length : 3\n",
      "index : 6 , Seq_length : 9\n",
      "index : 7 , Seq_length : 13\n",
      "index : 8 , Seq_length : 12\n",
      "index : 9 , Seq_length : 6\n"
     ]
    }
   ],
   "source": [
    "# Let us see the length of each sequence \n",
    "for i in range(10):\n",
    "    print(\"index : {} , Seq_length : {}\".format(i, len(sequences[i])))"
   ]
  },
  {
   "cell_type": "code",
   "execution_count": 83,
   "id": "cda9a350",
   "metadata": {},
   "outputs": [
    {
     "data": {
      "text/plain": [
       "array([[   1,  337, 3106, ...,    0,    0,    0],\n",
       "       [7348, 1732,  733, ...,    0,    0,    0],\n",
       "       [ 893,   35,    1, ...,    0,    0,    0],\n",
       "       ...,\n",
       "       [   4,   97,  590, ...,    0,    0,    0],\n",
       "       [1830, 1284, 3255, ...,    0,    0,    0],\n",
       "       [ 210, 3224,   21, ...,    0,    0,    0]])"
      ]
     },
     "execution_count": 83,
     "metadata": {},
     "output_type": "execute_result"
    }
   ],
   "source": [
    "# max_length is set to 100 and padded to have consistent length for all sequences\n",
    "max_length = 100\n",
    "features= pad_sequences(sequences,padding='post',truncating='post',maxlen=max_length)\n",
    "features"
   ]
  },
  {
   "cell_type": "code",
   "execution_count": 84,
   "id": "e8be5e7e",
   "metadata": {},
   "outputs": [
    {
     "data": {
      "text/plain": [
       "28619"
      ]
     },
     "execution_count": 84,
     "metadata": {},
     "output_type": "execute_result"
    }
   ],
   "source": [
    "len(features)"
   ]
  },
  {
   "cell_type": "code",
   "execution_count": 115,
   "id": "52c693ad",
   "metadata": {},
   "outputs": [
    {
     "name": "stdout",
     "output_type": "stream",
     "text": [
      "index : 0 , Seq_length : 100\n",
      "index : 1 , Seq_length : 100\n",
      "index : 2 , Seq_length : 100\n",
      "index : 3 , Seq_length : 100\n",
      "index : 4 , Seq_length : 100\n",
      "index : 5 , Seq_length : 100\n",
      "index : 6 , Seq_length : 100\n",
      "index : 7 , Seq_length : 100\n",
      "index : 8 , Seq_length : 100\n",
      "index : 9 , Seq_length : 100\n"
     ]
    }
   ],
   "source": [
    "# Now let us see length of sample sequences after padding\n",
    "for i in range(10):\n",
    "    print(\"index : {} , Seq_length : {}\".format(i, len(features[i])))"
   ]
  },
  {
   "cell_type": "code",
   "execution_count": 86,
   "id": "fdb98c14",
   "metadata": {},
   "outputs": [
    {
     "data": {
      "text/plain": [
       "array([   1,  337, 3106, 6323, 2319,    3,  672, 1139,    0,    0,    0,\n",
       "          0,    0,    0,    0,    0,    0,    0,    0,    0,    0,    0,\n",
       "          0,    0,    0,    0,    0,    0,    0,    0,    0,    0,    0,\n",
       "          0,    0,    0,    0,    0,    0,    0,    0,    0,    0,    0,\n",
       "          0,    0,    0,    0,    0,    0,    0,    0,    0,    0,    0,\n",
       "          0,    0,    0,    0,    0,    0,    0,    0,    0,    0,    0,\n",
       "          0,    0,    0,    0,    0,    0,    0,    0,    0,    0,    0,\n",
       "          0,    0,    0,    0,    0,    0,    0,    0,    0,    0,    0,\n",
       "          0,    0,    0,    0,    0,    0,    0,    0,    0,    0,    0,\n",
       "          0])"
      ]
     },
     "execution_count": 86,
     "metadata": {},
     "output_type": "execute_result"
    }
   ],
   "source": [
    "# Let us see sample feature\n",
    "features[0]"
   ]
  },
  {
   "cell_type": "code",
   "execution_count": 87,
   "id": "33d16fec",
   "metadata": {},
   "outputs": [],
   "source": [
    "labels = np.array(sh_df1['is_sarcastic'].values.tolist())"
   ]
  },
  {
   "cell_type": "code",
   "execution_count": 88,
   "id": "cbb0b3ad",
   "metadata": {},
   "outputs": [
    {
     "data": {
      "text/plain": [
       "array([1, 0, 0, ..., 0, 1, 1])"
      ]
     },
     "execution_count": 88,
     "metadata": {},
     "output_type": "execute_result"
    }
   ],
   "source": [
    "labels"
   ]
  },
  {
   "cell_type": "code",
   "execution_count": 89,
   "id": "89ab2bcd",
   "metadata": {},
   "outputs": [
    {
     "name": "stdout",
     "output_type": "stream",
     "text": [
      "Sample random feature                    : \n",
      "[4148    1  372  274    3  247 1697 5430 1157    1    0    0    0    0\n",
      "    0    0    0    0    0    0    0    0    0    0    0    0    0    0\n",
      "    0    0    0    0    0    0    0    0    0    0    0    0    0    0\n",
      "    0    0    0    0    0    0    0    0    0    0    0    0    0    0\n",
      "    0    0    0    0    0    0    0    0    0    0    0    0    0    0\n",
      "    0    0    0    0    0    0    0    0    0    0    0    0    0    0\n",
      "    0    0    0    0    0    0    0    0    0    0    0    0    0    0\n",
      "    0    0]\n",
      "\n",
      "Label assigned for the random feature  : 0\n"
     ]
    }
   ],
   "source": [
    "rnd=np.random.randint(0, len(features))\n",
    "print(\"Sample random feature                    : \\n{}\".format(features[rnd]))\n",
    "\n",
    "print(\"\\nLabel assigned for the random feature  : {}\".format(labels[rnd]))"
   ]
  },
  {
   "cell_type": "markdown",
   "id": "2ed3f9da",
   "metadata": {},
   "source": [
    "## 7. Get vocabulary size [3 Marks]"
   ]
  },
  {
   "cell_type": "code",
   "execution_count": 90,
   "id": "78992283",
   "metadata": {},
   "outputs": [],
   "source": [
    "word_counts = tokenizer.word_counts\n",
    "vocab_size = len(word_counts)"
   ]
  },
  {
   "cell_type": "code",
   "execution_count": 91,
   "id": "c7f47bc7",
   "metadata": {},
   "outputs": [
    {
     "name": "stdout",
     "output_type": "stream",
     "text": [
      "Total vocabulary size :29645\n"
     ]
    }
   ],
   "source": [
    "print(\"Total vocabulary size :{}\".format(vocab_size))"
   ]
  },
  {
   "cell_type": "code",
   "execution_count": 116,
   "id": "c7fc0375",
   "metadata": {},
   "outputs": [
    {
     "data": {
      "text/plain": [
       "[('thirtysomething', 1),\n",
       " ('scientists', 103),\n",
       " ('unveil', 13),\n",
       " ('doomsday', 5),\n",
       " ('clock', 18),\n",
       " ('of', 6263),\n",
       " ('hair', 59),\n",
       " ('loss', 38),\n",
       " ('dem', 4),\n",
       " ('rep', 25)]"
      ]
     },
     "execution_count": 116,
     "metadata": {},
     "output_type": "execute_result"
    }
   ],
   "source": [
    "list(word_counts.items())[:10]"
   ]
  },
  {
   "cell_type": "markdown",
   "id": "35485522",
   "metadata": {},
   "source": [
    "## 8. Create a weight matrix using GloVe embeddings [3 Marks]"
   ]
  },
  {
   "cell_type": "code",
   "execution_count": 93,
   "id": "17449bcd",
   "metadata": {},
   "outputs": [],
   "source": [
    "# Let us download the pre-trained globalvector model \n",
    "import zipfile\n",
    "from zipfile import ZipFile\n",
    "# Extracting glove.6B.zipfile using python\n",
    "zip_file_path='glove.6B.zip'\n",
    "with ZipFile(zip_file_path, 'r') as zip:\n",
    "  zip.extractall()"
   ]
  },
  {
   "cell_type": "code",
   "execution_count": 94,
   "id": "315b1f24",
   "metadata": {},
   "outputs": [],
   "source": [
    "embeddings_index = {};\n",
    "with open('glove.6B.100d.txt',encoding=\"utf8\") as f:\n",
    "    for line in f:\n",
    "        values = line.split()\n",
    "        word = values[0]\n",
    "        coefs = np.asarray(values[1:],dtype='float32')\n",
    "        embeddings_index[word] = coefs"
   ]
  },
  {
   "cell_type": "code",
   "execution_count": 95,
   "id": "5d61cfb0",
   "metadata": {},
   "outputs": [],
   "source": [
    "# creating embedding matrix\n",
    "embeddings_matrix = np.zeros((vocab_size+1, embedding_dim))\n",
    "for word, i in word_index.items():\n",
    "    embedding_vector = embeddings_index.get(word)\n",
    "    if embedding_vector is not None:\n",
    "        embeddings_matrix[i] = embedding_vector"
   ]
  },
  {
   "cell_type": "code",
   "execution_count": 96,
   "id": "ad9ffb5c",
   "metadata": {},
   "outputs": [
    {
     "data": {
      "text/plain": [
       "array([[ 0.        ,  0.        ,  0.        , ...,  0.        ,\n",
       "         0.        ,  0.        ],\n",
       "       [ 0.        ,  0.        ,  0.        , ...,  0.        ,\n",
       "         0.        ,  0.        ],\n",
       "       [-0.18970001,  0.050024  ,  0.19084001, ..., -0.39804   ,\n",
       "         0.47646999, -0.15983   ],\n",
       "       ...,\n",
       "       [-0.12864999, -0.67440999, -0.74498999, ...,  0.63151997,\n",
       "        -0.26293999,  1.12390006],\n",
       "       [ 0.        ,  0.        ,  0.        , ...,  0.        ,\n",
       "         0.        ,  0.        ],\n",
       "       [-0.20939   ,  0.23797999,  0.79356003, ..., -0.2342    ,\n",
       "        -0.087866  , -0.16031   ]])"
      ]
     },
     "execution_count": 96,
     "metadata": {},
     "output_type": "execute_result"
    }
   ],
   "source": [
    "embeddings_matrix"
   ]
  },
  {
   "cell_type": "code",
   "execution_count": 97,
   "id": "d52f4be3",
   "metadata": {},
   "outputs": [
    {
     "data": {
      "text/plain": [
       "(29646, 100)"
      ]
     },
     "execution_count": 97,
     "metadata": {},
     "output_type": "execute_result"
    }
   ],
   "source": [
    "embeddings_matrix.shape"
   ]
  },
  {
   "cell_type": "markdown",
   "id": "c3bf8fc1",
   "metadata": {},
   "source": [
    "## 9. Define and compile a Bidirectional LSTM model. [3 Marks]\n",
    " Hint: Be analytical and experimental here in trying new approaches to design the best model."
   ]
  },
  {
   "cell_type": "code",
   "execution_count": 98,
   "id": "c3eaf210",
   "metadata": {},
   "outputs": [],
   "source": [
    "x_train, x_test, y_train, y_test = train_test_split(features,labels,random_state=5,test_size = 0.2)"
   ]
  },
  {
   "cell_type": "code",
   "execution_count": 99,
   "id": "bade3e60",
   "metadata": {},
   "outputs": [
    {
     "name": "stdout",
     "output_type": "stream",
     "text": [
      "Shape of x_train :(22895, 100)\n",
      "Shape of y_train :(22895,)\n",
      "Shape of x_test  :(5724, 100)\n",
      "Shape of y_test  :(5724,)\n"
     ]
    }
   ],
   "source": [
    "print(\"Shape of x_train :{}\".format(x_train.shape))\n",
    "print(\"Shape of y_train :{}\".format(y_train.shape))\n",
    "print(\"Shape of x_test  :{}\".format(x_test.shape))\n",
    "print(\"Shape of y_test  :{}\".format(y_test.shape))"
   ]
  },
  {
   "cell_type": "code",
   "execution_count": 100,
   "id": "3a7ddcb2",
   "metadata": {},
   "outputs": [
    {
     "name": "stdout",
     "output_type": "stream",
     "text": [
      "Model: \"sequential_2\"\n",
      "_________________________________________________________________\n",
      " Layer (type)                Output Shape              Param #   \n",
      "=================================================================\n",
      " embedding_2 (Embedding)     (None, 100, 100)          2964600   \n",
      "                                                                 \n",
      " bidirectional (Bidirectiona  (None, 100, 128)         84480     \n",
      " l)                                                              \n",
      "                                                                 \n",
      " bidirectional_1 (Bidirectio  (None, 64)               41216     \n",
      " nal)                                                            \n",
      "                                                                 \n",
      " flatten_2 (Flatten)         (None, 64)                0         \n",
      "                                                                 \n",
      " dense_6 (Dense)             (None, 6)                 390       \n",
      "                                                                 \n",
      " dropout (Dropout)           (None, 6)                 0         \n",
      "                                                                 \n",
      " dense_7 (Dense)             (None, 1)                 7         \n",
      "                                                                 \n",
      "=================================================================\n",
      "Total params: 3,090,693\n",
      "Trainable params: 126,093\n",
      "Non-trainable params: 2,964,600\n",
      "_________________________________________________________________\n"
     ]
    }
   ],
   "source": [
    "# Define Bi-directional LSTM model\n",
    "lstm_model = keras.Sequential([\n",
    "    keras.layers.Embedding(vocab_size+1, embedding_dim, input_length=max_length,weights=[embeddings_matrix], trainable=False),\n",
    "    keras.layers.Bidirectional(keras.layers.LSTM(64,return_sequences=True)),\n",
    "\n",
    "    keras.layers.Bidirectional(keras.layers.LSTM(32)),\n",
    "    keras.layers.Flatten(),\n",
    "    keras.layers.Dense(6, activation='relu'),\n",
    "    keras.layers.Dropout(0.2),\n",
    "    keras.layers.Dense(1, activation='sigmoid')\n",
    "])\n",
    "lstm_model.compile(loss='binary_crossentropy',optimizer='adam',metrics=['accuracy'])\n",
    "lstm_model.summary()"
   ]
  },
  {
   "cell_type": "markdown",
   "id": "4c2a5c61",
   "metadata": {},
   "source": [
    "## 10. Fit the model and check the validation accuracy [3 Marks]"
   ]
  },
  {
   "cell_type": "code",
   "execution_count": 101,
   "id": "6a7e6b8f",
   "metadata": {},
   "outputs": [
    {
     "name": "stdout",
     "output_type": "stream",
     "text": [
      "Epoch 1/20\n",
      "716/716 [==============================] - 93s 123ms/step - loss: 0.5019 - accuracy: 0.7489 - val_loss: 0.3926 - val_accuracy: 0.8279\n",
      "Epoch 2/20\n",
      "716/716 [==============================] - 87s 122ms/step - loss: 0.3818 - accuracy: 0.8291 - val_loss: 0.3685 - val_accuracy: 0.8426\n",
      "Epoch 3/20\n",
      "716/716 [==============================] - 91s 127ms/step - loss: 0.3449 - accuracy: 0.8529 - val_loss: 0.3502 - val_accuracy: 0.8447\n",
      "Epoch 4/20\n",
      "716/716 [==============================] - 89s 124ms/step - loss: 0.2968 - accuracy: 0.8767 - val_loss: 0.3351 - val_accuracy: 0.8539\n",
      "Epoch 5/20\n",
      "716/716 [==============================] - 85s 119ms/step - loss: 0.2613 - accuracy: 0.8919 - val_loss: 0.3264 - val_accuracy: 0.8625\n",
      "Epoch 6/20\n",
      "716/716 [==============================] - 100s 139ms/step - loss: 0.2374 - accuracy: 0.9036 - val_loss: 0.3460 - val_accuracy: 0.8574\n",
      "Epoch 7/20\n",
      "716/716 [==============================] - 93s 130ms/step - loss: 0.2154 - accuracy: 0.9138 - val_loss: 0.3339 - val_accuracy: 0.8639\n",
      "Epoch 8/20\n",
      "716/716 [==============================] - 93s 129ms/step - loss: 0.1823 - accuracy: 0.9281 - val_loss: 0.3557 - val_accuracy: 0.8676\n",
      "Epoch 9/20\n",
      "716/716 [==============================] - 103s 144ms/step - loss: 0.1581 - accuracy: 0.9392 - val_loss: 0.3968 - val_accuracy: 0.8636\n",
      "Epoch 10/20\n",
      "716/716 [==============================] - 89s 124ms/step - loss: 0.1405 - accuracy: 0.9457 - val_loss: 0.4207 - val_accuracy: 0.8595\n",
      "Epoch 11/20\n",
      "716/716 [==============================] - 90s 125ms/step - loss: 0.1153 - accuracy: 0.9561 - val_loss: 0.4773 - val_accuracy: 0.8618\n",
      "Epoch 12/20\n",
      "716/716 [==============================] - 90s 126ms/step - loss: 0.1040 - accuracy: 0.9612 - val_loss: 0.4690 - val_accuracy: 0.8632\n",
      "Epoch 13/20\n",
      "716/716 [==============================] - 95s 133ms/step - loss: 0.0862 - accuracy: 0.9687 - val_loss: 0.5487 - val_accuracy: 0.8595\n",
      "Epoch 14/20\n",
      "716/716 [==============================] - 90s 125ms/step - loss: 0.0762 - accuracy: 0.9705 - val_loss: 0.5858 - val_accuracy: 0.8636\n",
      "Epoch 15/20\n",
      "716/716 [==============================] - 90s 126ms/step - loss: 0.0699 - accuracy: 0.9740 - val_loss: 0.6084 - val_accuracy: 0.8602\n",
      "Epoch 16/20\n",
      "716/716 [==============================] - 90s 126ms/step - loss: 0.0583 - accuracy: 0.9783 - val_loss: 0.6343 - val_accuracy: 0.8625\n",
      "Epoch 17/20\n",
      "716/716 [==============================] - 87s 121ms/step - loss: 0.0554 - accuracy: 0.9790 - val_loss: 0.6307 - val_accuracy: 0.8581\n",
      "Epoch 18/20\n",
      "716/716 [==============================] - 96s 135ms/step - loss: 0.0467 - accuracy: 0.9828 - val_loss: 0.6615 - val_accuracy: 0.8667\n",
      "Epoch 19/20\n",
      "716/716 [==============================] - 97s 135ms/step - loss: 0.0419 - accuracy: 0.9851 - val_loss: 0.7928 - val_accuracy: 0.8620\n",
      "Epoch 20/20\n",
      "716/716 [==============================] - 92s 128ms/step - loss: 0.0401 - accuracy: 0.9841 - val_loss: 0.7944 - val_accuracy: 0.8622\n"
     ]
    }
   ],
   "source": [
    "num_epochs = 20\n",
    "lstm_model_fitted = lstm_model.fit(x_train, y_train , epochs=num_epochs, validation_data=(x_test,y_test))"
   ]
  },
  {
   "cell_type": "code",
   "execution_count": 102,
   "id": "101261a2",
   "metadata": {},
   "outputs": [
    {
     "name": "stdout",
     "output_type": "stream",
     "text": [
      "716/716 [==============================] - 21s 30ms/step - loss: 0.0177 - accuracy: 0.9948\n",
      "179/179 [==============================] - 7s 38ms/step - loss: 0.7944 - accuracy: 0.8622\n"
     ]
    }
   ],
   "source": [
    "lstm_model_train_res = lstm_model.evaluate(x_train, y_train)\n",
    "lstm_model_test_res = lstm_model.evaluate(x_test, y_test)"
   ]
  },
  {
   "cell_type": "code",
   "execution_count": 103,
   "id": "cb7dfc44",
   "metadata": {},
   "outputs": [
    {
     "name": "stdout",
     "output_type": "stream",
     "text": [
      "Train Loss      : 0.017695553600788116 ; Train accuracy       : 0.994758665561676\n",
      "Test Loss       : 0.7943642139434814 ; Test accuracy        : 0.8621593117713928\n"
     ]
    }
   ],
   "source": [
    "print(\"Train Loss      : {} ; Train accuracy       : {}\".format(lstm_model_train_res[0],lstm_model_train_res[1]))\n",
    "print(\"Test Loss       : {} ; Test accuracy        : {}\".format(lstm_model_test_res[0],lstm_model_test_res[1]))"
   ]
  },
  {
   "cell_type": "code",
   "execution_count": 104,
   "id": "07d6bdde",
   "metadata": {},
   "outputs": [
    {
     "data": {
      "text/plain": [
       "[]"
      ]
     },
     "execution_count": 104,
     "metadata": {},
     "output_type": "execute_result"
    },
    {
     "data": {
      "image/png": "[encoded data removed]",
      "text/plain": [
       "<Figure size 432x288 with 1 Axes>"
      ]
     },
     "metadata": {},
     "output_type": "display_data"
    }
   ],
   "source": [
    "acc = lstm_model_fitted.history['accuracy']\n",
    "val = lstm_model_fitted.history['val_accuracy']\n",
    "epochs = range(num_epochs)\n",
    "\n",
    "plt.plot(epochs, acc, '-', label='Training accuracy')\n",
    "plt.plot(epochs, val, ':', label='Validation accuracy')\n",
    "plt.title('Training and Validation Accuracy')\n",
    "plt.xlabel('Epoch')\n",
    "plt.ylabel('Accuracy')\n",
    "plt.legend(['train_acc','val_acc'],loc='upper left')\n",
    "#plt.legend(loc='upper left')\n",
    "plt.plot()"
   ]
  },
  {
   "cell_type": "code",
   "execution_count": 105,
   "id": "a4bdb3c1",
   "metadata": {},
   "outputs": [
    {
     "data": {
      "text/plain": [
       "[]"
      ]
     },
     "execution_count": 105,
     "metadata": {},
     "output_type": "execute_result"
    },
    {
     "data": {
      "image/png": "[encoded data removed]",
      "text/plain": [
       "<Figure size 432x288 with 1 Axes>"
      ]
     },
     "metadata": {},
     "output_type": "display_data"
    }
   ],
   "source": [
    "loss = lstm_model_fitted.history['loss']\n",
    "val = lstm_model_fitted.history['val_loss']\n",
    "epochs = range(num_epochs)\n",
    "\n",
    "plt.plot(epochs, loss, '-', label='Training loss')\n",
    "plt.plot(epochs, val, ':', label='Validation loss')\n",
    "plt.title('Training and Validation Loss')\n",
    "plt.xlabel('Epoch')\n",
    "plt.ylabel('Loss')\n",
    "plt.legend(['train_loss','val_loss'],loc='upper left')\n",
    "#plt.legend(loc='upper left')\n",
    "plt.plot()"
   ]
  },
  {
   "cell_type": "markdown",
   "id": "e32a30af",
   "metadata": {},
   "source": [
    "#### The Bi-directional LSTM model has given an accuracy score of 86.21% in test set."
   ]
  },
  {
   "cell_type": "markdown",
   "id": "b909bc9c",
   "metadata": {},
   "source": [
    "# THE END"
   ]
  }
 ],
 "metadata": {
  "kernelspec": {
   "display_name": "Python 3 (ipykernel)",
   "language": "python",
   "name": "python3"
  },
  "language_info": {
   "codemirror_mode": {
    "name": "ipython",
    "version": 3
   },
   "file_extension": ".py",
   "mimetype": "text/x-python",
   "name": "python",
   "nbconvert_exporter": "python",
   "pygments_lexer": "ipython3",
   "version": "3.9.7"
  }
 },
 "nbformat": 4,
 "nbformat_minor": 5
}
